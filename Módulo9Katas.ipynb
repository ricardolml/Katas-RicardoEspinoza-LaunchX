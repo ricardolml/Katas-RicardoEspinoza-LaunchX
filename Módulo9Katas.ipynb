{
  "cells": [
    {
      "cell_type": "markdown",
      "metadata": {},
      "source": [
        "# Ejercicio: Uso de funciones en Python"
      ]
    },
    {
      "cell_type": "markdown",
      "metadata": {},
      "source": [
        "### Ejercicio 1: Trabajar con argumentos en funciones\n",
        "\n",
        "Los argumentos requeridos en las funciones se utilizan cuando las funciones necesitan que esos argumentos funcionen correctamente. En este ejercicio, construirás un informe de combustible que requiere información de varias ubicaciones de combustible en todo el cohete.\n",
        "\n"
      ]
    },
    {
      "cell_type": "markdown",
      "metadata": {},
      "source": [
        "> **TIP**\n",
        "> Dedica unos minutos para tratar de encontrar una solución. Luego desplázate hacia abajo hasta la parte inferior para ver si has logrado compilar el programa de acuerdo con las especificaciones\n",
        "\n",
        "Comienza por crear una función que necesite tres lecturas de combustible y devuelva un informe:"
      ]
    },
    {
      "cell_type": "code",
      "execution_count": 1,
      "metadata": {},
      "outputs": [],
      "source": [
        "# Función para leer 3 tanques de combustible y muestre el promedio\n",
        "def reporteGeneral( combustible_interno , combustible_externo, combustible_reserva ):\n",
        "    return f\"\"\"\n",
        "        Promedio de combustible: { (combustible_interno + combustible_externo + combustible_reserva ) / 3  }\n",
        "        Combustible interno: { combustible_interno }%\n",
        "        Combustible externo: { combustible_externo }%\n",
        "        Combustible reserva: { combustible_reserva }%\n",
        "    \"\"\"\n",
        "    \n",
        "\n"
      ]
    },
    {
      "cell_type": "markdown",
      "metadata": {},
      "source": [
        "Ahora que hemos definido la función de informes, vamos a comprobarlo. Para esta misión, los tanques no están llenos:"
      ]
    },
    {
      "cell_type": "code",
      "execution_count": 2,
      "metadata": {},
      "outputs": [
        {
          "name": "stdout",
          "output_type": "stream",
          "text": [
            "\n",
            "        Promedio de combustible: 66.66666666666667\n",
            "        Combustible interno: 100%\n",
            "        Combustible externo: 60%\n",
            "        Combustible reserva: 40%\n",
            "    \n"
          ]
        }
      ],
      "source": [
        "\n",
        "# Llamamos a la función que genera el reporte print(funcion(tanque1, tanque2, tanque3))\n",
        "\n",
        "print( reporteGeneral( 100 , 60 , 40) )"
      ]
    },
    {
      "cell_type": "markdown",
      "metadata": {},
      "source": [
        "En lugar de simplemente crear el informe, la función también está calculando el promedio. Mejora la legibilidad extrayendo el cálculo promedio de la función en una nueva función para que el promedio se pueda hacer de forma independiente:"
      ]
    },
    {
      "cell_type": "code",
      "execution_count": 3,
      "metadata": {},
      "outputs": [],
      "source": [
        "# Función promedio \n",
        "\n",
        "def calcularPromedioCombustible( combustible_interno , combustible_externo, combustible_reserva ):\n",
        "    promedio = (combustible_interno + combustible_externo + combustible_reserva ) / 3\n",
        "    return promedio"
      ]
    },
    {
      "cell_type": "markdown",
      "metadata": {},
      "source": [
        "Ahora actualiza la función de informes para llamando a la nueva función del promedio:\n"
      ]
    },
    {
      "cell_type": "code",
      "execution_count": 4,
      "metadata": {},
      "outputs": [
        {
          "name": "stdout",
          "output_type": "stream",
          "text": [
            "\n",
            "        Promedio de combustible: 66.66666666666667\n",
            "        Combustible interno: 100%\n",
            "        Combustible externo: 60%\n",
            "        Combustible reserva: 40%\n",
            "    \n"
          ]
        }
      ],
      "source": [
        "# Actualiza la función\n",
        "\n",
        "def reporteGeneral( combustible_interno , combustible_externo, combustible_reserva ):\n",
        "    promedioCombustible = calcularPromedioCombustible(combustible_interno , combustible_externo, combustible_reserva)\n",
        "    return f\"\"\"\n",
        "        Promedio de combustible: { promedioCombustible }\n",
        "        Combustible interno: { combustible_interno }%\n",
        "        Combustible externo: { combustible_externo }%\n",
        "        Combustible reserva: { combustible_reserva }%\n",
        "    \"\"\"\n",
        "print( reporteGeneral( 100 , 60 , 40) )"
      ]
    },
    {
      "cell_type": "markdown",
      "metadata": {},
      "source": [
        "> Recuerda: Lo importante es intentarlo, puedes auxiliarte de internet, libros, etc. El objetivo de una kata es la comprobación de la comprensión de la lección y su aplicación inmediata a la resolución de problemas. Go for it!"
      ]
    },
    {
      "cell_type": "markdown",
      "metadata": {},
      "source": [
        "## Ejercicio 2: Trabajo con argumentos de palabra clave"
      ]
    },
    {
      "cell_type": "markdown",
      "metadata": {},
      "source": [
        "### Ejercicio : Trabajar con argumentos de palabras clave en funciones\n",
        "En este ejercicio, construirás un informe de cohete que requiere varias piezas de información, como el tiempo hasta el destino, el combustible a la izquierda y el nombre del destino. Comienza por crear una función que creará un informe preciso de la misión:"
      ]
    },
    {
      "cell_type": "code",
      "execution_count": 5,
      "metadata": {},
      "outputs": [
        {
          "name": "stdout",
          "output_type": "stream",
          "text": [
            "\n",
            "        ----------------------------------------------------------------------------\n",
            "        Informe de misión\n",
            "        ----------------------------------------------------------------------------\n",
            "            >>Destino final: Marte,\n",
            "            >>Hora de lanzamiento: 15,\n",
            "            >>Tiempo de vuelo: 120\n",
            "            >>Tiempo total: 135\n",
            "\n",
            "        ----------------------------------------------------------------------------\n",
            "        Informe de Combustible\n",
            "        ----------------------------------------------------------------------------\n",
            "            >>>Tanque interno: 200000000\n",
            "            >>>Tanque externo: 100000000\n",
            "\n",
            "    \n"
          ]
        }
      ],
      "source": [
        "# Función con un informe preciso de la misión. Considera hora de prelanzamiento, tiempo de vuelo, destino, tanque externo y tanque interno\n",
        "\n",
        "def informeMision( hora_lanzamiento, tiempo_vuelo, destino, tanque_externo, tanque_interno ):\n",
        "    return f\"\"\"\n",
        "        ----------------------------------------------------------------------------\n",
        "        Informe de misión\n",
        "        ----------------------------------------------------------------------------\n",
        "            >>Destino final: {destino},\n",
        "            >>Hora de lanzamiento: { hora_lanzamiento },\n",
        "            >>Tiempo de vuelo: { tiempo_vuelo }\n",
        "            >>Tiempo total: { hora_lanzamiento + tiempo_vuelo }\n",
        "\n",
        "        ----------------------------------------------------------------------------\n",
        "        Informe de Combustible\n",
        "        ----------------------------------------------------------------------------\n",
        "            >>>Tanque interno: { tanque_interno }\n",
        "            >>>Tanque externo: { tanque_externo }\n",
        "\n",
        "    \"\"\"\n",
        "\n",
        "print(informeMision(15, 120, \"Marte\", 100000000, 200000000))"
      ]
    },
    {
      "cell_type": "markdown",
      "metadata": {},
      "source": [
        "La función es problemática porque no se puede adaptar para minutos adicionales o tanques adicionales de combustible. Hazlo más flexible permitiendo cualquier número de pasos basados en el tiempo y cualquier número de tanques. En lugar de usar `*args` y `**kwargs`, aprovecha el hecho de que puedes usar cualquier nombre que desees. Asegurate que la función sea más legible mediante el uso de nombres de variables que están asociados con las entradas, como `*minutes` y `**fuel_reservoirs`:"
      ]
    },
    {
      "cell_type": "code",
      "execution_count": 6,
      "metadata": {},
      "outputs": [
        {
          "name": "stdout",
          "output_type": "stream",
          "text": [
            "\n",
            "        ----------------------------------------------------------------------------\n",
            "        Informe de misión\n",
            "        ----------------------------------------------------------------------------\n",
            "            >>Destino final: Marte,\n",
            "            >>Tiempo total: 155\n",
            "\n",
            "        ----------------------------------------------------------------------------\n",
            "        Informe de Combustible\n",
            "        ----------------------------------------------------------------------------\n",
            "            >>>Total de Combustible: 300000000\n",
            "\n",
            "    \n"
          ]
        }
      ],
      "source": [
        "# Escribe tu nueva función de reporte considerando lo anterior\n",
        "\n",
        "def informeMision(destino, *minutos_de_vuelo , **tanques_combustible ):\n",
        "    return f\"\"\"\n",
        "        ----------------------------------------------------------------------------\n",
        "        Informe de misión\n",
        "        ----------------------------------------------------------------------------\n",
        "            >>Destino final: {destino},\n",
        "            >>Tiempo total: { sum(minutos_de_vuelo) }\n",
        "\n",
        "        ----------------------------------------------------------------------------\n",
        "        Informe de Combustible\n",
        "        ----------------------------------------------------------------------------\n",
        "            >>>Total de Combustible: { sum(tanques_combustible.values()) }\n",
        "\n",
        "    \"\"\"\n",
        "\n",
        "print(informeMision(\"Marte\", 15, 120, 20, interno=200000000, externo=100000000))"
      ]
    },
    {
      "cell_type": "markdown",
      "metadata": {},
      "source": [
        "Debido a que el combustible que queda en los tanques es específico de cada tanque, actualiza la función para usar el nombre de cada tanque en el informe:"
      ]
    },
    {
      "cell_type": "code",
      "execution_count": 7,
      "metadata": {},
      "outputs": [
        {
          "name": "stdout",
          "output_type": "stream",
          "text": [
            "\n",
            "        ----------------------------------------------------------------------------\n",
            "        Informe de misión\n",
            "        ----------------------------------------------------------------------------\n",
            "            >>Destino final: Marte,\n",
            "            >>Tiempo total: 155\n",
            "        ----------------------------------------------------------------------------\n",
            "        Informe de Combustible\n",
            "        ----------------------------------------------------------------------------\n",
            "    \n",
            "            >>> Tanque interno: 200000000\n",
            "        \n",
            "            >>> Tanque externo: 100000000\n",
            "        \n"
          ]
        }
      ],
      "source": [
        "# Escribe tu nueva función\n",
        "\n",
        "def informeMision(destino, *minutos_de_vuelo , **tanques_combustible ):\n",
        "    plantilla =  f\"\"\"\n",
        "        ----------------------------------------------------------------------------\n",
        "        Informe de misión\n",
        "        ----------------------------------------------------------------------------\n",
        "            >>Destino final: {destino},\n",
        "            >>Tiempo total: { sum(minutos_de_vuelo) }\n",
        "        ----------------------------------------------------------------------------\n",
        "        Informe de Combustible\n",
        "        ----------------------------------------------------------------------------\n",
        "    \"\"\"\n",
        "\n",
        "    for tipo_tanque, combustible in tanques_combustible.items():\n",
        "        plantilla +=  f\"\"\"\n",
        "            >>>Tanque { tipo_tanque }: { combustible }\n",
        "        \"\"\"\n",
        "    \n",
        "    return plantilla\n",
        "    \n",
        "\n",
        "print(informeMision(\"Marte\", 15, 120, 20, interno=200000000, externo=100000000))"
      ]
    },
    {
      "cell_type": "markdown",
      "metadata": {},
      "source": [
        "## Soluciones"
      ]
    },
    {
      "cell_type": "markdown",
      "metadata": {},
      "source": [
        "## Ejercicio 1"
      ]
    },
    {
      "cell_type": "code",
      "execution_count": null,
      "metadata": {},
      "outputs": [],
      "source": [
        "# Función para leer 3 tanques de combustible y muestre el promedio\n",
        "\n",
        "def generate_report(main_tank, external_tank, hydrogen_tank):\n",
        "    total_average = (main_tank + external_tank + hydrogen_tank) / 3\n",
        "    return f\"\"\"Fuel Report:\n",
        "    Total Average: {total_average}%\n",
        "    Main tank: {main_tank}%\n",
        "    External tank: {external_tank}%\n",
        "    Hydrogen tank: {hydrogen_tank}% \n",
        "    \"\"\"\n"
      ]
    },
    {
      "cell_type": "code",
      "execution_count": null,
      "metadata": {},
      "outputs": [],
      "source": [
        "# Llamamos a la función que genera el reporte print(funcion(tanque1, tanque2, tanque3))\n",
        "print(generate_report(80, 70, 85))"
      ]
    },
    {
      "cell_type": "code",
      "execution_count": null,
      "metadata": {},
      "outputs": [],
      "source": [
        "# Función promedio \n",
        "def average(values):\n",
        "    total = sum(values)\n",
        "    number_of_items = len(values)\n",
        "    return total / number_of_items\n",
        "\n",
        "# Test the averaging function with a list of integers:\n",
        "average([80, 85, 81]) "
      ]
    },
    {
      "cell_type": "code",
      "execution_count": null,
      "metadata": {},
      "outputs": [],
      "source": [
        "# Actualiza la función\n",
        "def generate_report(main_tank, external_tank, hydrogen_tank):\n",
        "    return f\"\"\"Fuel Report:\n",
        "    Total Average: {average([main_tank, external_tank, hydrogen_tank])}%\n",
        "    Main tank: {main_tank}%\n",
        "    External tank: {external_tank}%\n",
        "    Hydrogen tank: {hydrogen_tank}% \n",
        "    \"\"\"\n",
        "\n",
        "# Call the updated function again with different values\n",
        "print(generate_report(88, 76, 70))"
      ]
    },
    {
      "cell_type": "markdown",
      "metadata": {},
      "source": [
        "### Ejercicio 2:"
      ]
    },
    {
      "cell_type": "code",
      "execution_count": null,
      "metadata": {},
      "outputs": [],
      "source": [
        "# Función con un informe preciso de la misión. Considera hora de prelanzamiento, tiempo de vuelo, destino, tanque externo y tanque interno\n",
        "\n",
        "def mission_report(pre_launch_time, flight_time, destination, external_tank, main_tank):\n",
        "    return f\"\"\"\n",
        "    Mission to {destination}\n",
        "    Total travel time: {pre_launch_time + flight_time} minutes\n",
        "    Total fuel left: {external_tank + main_tank} gallons\n",
        "    \"\"\"\n",
        "\n",
        "print(mission_report(14, 51, \"Moon\", 200000, 300000))"
      ]
    },
    {
      "cell_type": "code",
      "execution_count": null,
      "metadata": {},
      "outputs": [],
      "source": [
        "# Escribe tu nueva función de reporte considerando lo anterior\n",
        "\n",
        "def mission_report(destination, *minutes, **fuel_reservoirs):\n",
        "    return f\"\"\"\n",
        "    Mission to {destination}\n",
        "    Total travel time: {sum(minutes)} minutes\n",
        "    Total fuel left: {sum(fuel_reservoirs.values())}\n",
        "    \"\"\"\n",
        "\n",
        "print(mission_report(\"Moon\", 10, 15, 51, main=300000, external=200000))"
      ]
    },
    {
      "cell_type": "code",
      "execution_count": null,
      "metadata": {},
      "outputs": [],
      "source": [
        "# Escribe tu nueva función\n",
        "\n",
        "def mission_report(destination, *minutes, **fuel_reservoirs):\n",
        "    main_report = f\"\"\"\n",
        "    Mission to {destination}\n",
        "    Total travel time: {sum(minutes)} minutes\n",
        "    Total fuel left: {sum(fuel_reservoirs.values())}\n",
        "    \"\"\"\n",
        "    for tank_name, gallons in fuel_reservoirs.items():\n",
        "        main_report += f\"{tank_name} tank --> {gallons} gallons left\\n\"\n",
        "    return main_report\n",
        "\n",
        "print(mission_report(\"Moon\", 8, 11, 55, main=300000, external=200000))"
      ]
    }
  ],
  "metadata": {
    "interpreter": {
      "hash": "205095b8b86ea82a021a8fc2ffba2b3bc9f8d0be25999901963b225939f75778"
    },
    "kernelspec": {
      "display_name": "Python 3.8.10 64-bit ('tmp': conda)",
      "name": "python3"
    },
    "language_info": {
      "codemirror_mode": {
        "name": "ipython",
        "version": 3
      },
      "file_extension": ".py",
      "mimetype": "text/x-python",
      "name": "python",
      "nbconvert_exporter": "python",
      "pygments_lexer": "ipython3",
      "version": "3.10.2"
    },
    "nteract": {
      "version": "nteract-front-end@1.0.0"
    },
    "orig_nbformat": 4
  },
  "nbformat": 4,
  "nbformat_minor": 2
}
